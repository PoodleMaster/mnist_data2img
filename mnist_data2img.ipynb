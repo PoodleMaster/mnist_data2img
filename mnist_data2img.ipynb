{
  "nbformat": 4,
  "nbformat_minor": 0,
  "metadata": {
    "colab": {
      "name": "mnist_data2img.ipynb",
      "provenance": [],
      "collapsed_sections": [],
      "toc_visible": true
    },
    "kernelspec": {
      "name": "python3",
      "display_name": "Python 3"
    }
  },
  "cells": [
    {
      "cell_type": "markdown",
      "metadata": {
        "id": "MP4_KH8ojRoz",
        "colab_type": "text"
      },
      "source": [
        "# **mnist_data2img**"
      ]
    },
    {
      "cell_type": "markdown",
      "metadata": {
        "id": "8zAY4hQ7rKgJ",
        "colab_type": "text"
      },
      "source": [
        "## mnist_data2im.py"
      ]
    },
    {
      "cell_type": "code",
      "metadata": {
        "id": "_n1h_3gK4nhf",
        "colab_type": "code",
        "colab": {
          "base_uri": "https://localhost:8080/",
          "height": 158
        },
        "outputId": "b8df9ce0-37f0-4ac7-9b33-a83ed9e9ee06"
      },
      "source": [
        "%cd /content/\n",
        "!rm -r /content/mnist_data2img\n",
        "!git clone https://github.com/PoodleMaster/mnist_data2img.git"
      ],
      "execution_count": 1,
      "outputs": [
        {
          "output_type": "stream",
          "text": [
            "/content\n",
            "rm: cannot remove '/content/mnist_data2img': No such file or directory\n",
            "Cloning into 'mnist_data2img'...\n",
            "remote: Enumerating objects: 87, done.\u001b[K\n",
            "remote: Counting objects: 100% (87/87), done.\u001b[K\n",
            "remote: Compressing objects: 100% (86/86), done.\u001b[K\n",
            "remote: Total 87 (delta 51), reused 0 (delta 0), pack-reused 0\u001b[K\n",
            "Unpacking objects: 100% (87/87), done.\n"
          ],
          "name": "stdout"
        }
      ]
    },
    {
      "cell_type": "code",
      "metadata": {
        "id": "CKKuIVWPXl5K",
        "colab_type": "code",
        "colab": {
          "base_uri": "https://localhost:8080/",
          "height": 281
        },
        "outputId": "78ceccab-7e34-49bf-df2a-bb48f7c1b9c0"
      },
      "source": [
        "%cd /content/mnist_data2img\n",
        "!python mnist_data2img.py -h\n",
        "!python mnist_data2img.py"
      ],
      "execution_count": 3,
      "outputs": [
        {
          "output_type": "stream",
          "text": [
            "/content/mnist_data2img\n",
            "2020-09-24 15:37:33.866193: I tensorflow/stream_executor/platform/default/dso_loader.cc:48] Successfully opened dynamic library libcudart.so.10.1\n",
            "Drive already mounted at /content/drive; to attempt to forcibly remount, call drive.mount(\"/content/drive\", force_remount=True).\n",
            "usage: mnist_data2img.py [-h] [-n] [-d]\n",
            "\n",
            "optional arguments:\n",
            "  -h, --help   show this help message and exit\n",
            "  -n, --new    new create option.\n",
            "  -d, --debug  debug option.\n",
            "2020-09-24 15:37:36.187381: I tensorflow/stream_executor/platform/default/dso_loader.cc:48] Successfully opened dynamic library libcudart.so.10.1\n",
            "Drive already mounted at /content/drive; to attempt to forcibly remount, call drive.mount(\"/content/drive\", force_remount=True).\n",
            "Downloading data from https://storage.googleapis.com/tensorflow/tf-keras-datasets/mnist.npz\n",
            "11493376/11490434 [==============================] - 0s 0us/step\n",
            "100% 60000/60000 [05:08<00:00, 194.60it/s]\n",
            "100% 10000/10000 [00:40<00:00, 247.68it/s]\n"
          ],
          "name": "stdout"
        }
      ]
    },
    {
      "cell_type": "markdown",
      "metadata": {
        "id": "bnY9CjQms9sW",
        "colab_type": "text"
      },
      "source": [
        "## Look in the directory"
      ]
    },
    {
      "cell_type": "code",
      "metadata": {
        "id": "zQGcsS9ysk1x",
        "colab_type": "code",
        "colab": {
          "base_uri": "https://localhost:8080/",
          "height": 87
        },
        "outputId": "c832675a-0c6e-47e5-d5ef-468f65b28b53"
      },
      "source": [
        "%cd /content/drive/My Drive/qiita_share/mnist_train_data\n",
        "!ls\n",
        "%cd /content/drive/My Drive/qiita_share/mnist_valid_data\n",
        "!ls"
      ],
      "execution_count": null,
      "outputs": [
        {
          "output_type": "stream",
          "text": [
            "/content/drive/My Drive/qiita_share/mnist_train_data\n",
            "0  1  2  3  4  5  6  7\t8  9\n",
            "/content/drive/My Drive/qiita_share/mnist_valid_data\n",
            "0  1  2  3  4  5  6  7\t8  9\n"
          ],
          "name": "stdout"
        }
      ]
    }
  ]
}