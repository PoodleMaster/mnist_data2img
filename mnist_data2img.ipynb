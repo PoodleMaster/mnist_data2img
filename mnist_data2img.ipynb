{
  "nbformat": 4,
  "nbformat_minor": 0,
  "metadata": {
    "colab": {
      "name": "mnist_data2img.ipynb",
      "provenance": [],
      "collapsed_sections": [],
      "mount_file_id": "1FBw4rvgoOu216wWsArvVA1_Ygsxw9fPU",
      "authorship_tag": "ABX9TyNwbIXH9w6qBGifDqOaVwV2"
    },
    "kernelspec": {
      "name": "python3",
      "display_name": "Python 3"
    }
  },
  "cells": [
    {
      "cell_type": "markdown",
      "metadata": {
        "id": "MP4_KH8ojRoz",
        "colab_type": "text"
      },
      "source": [
        "# **mnist_data2img**"
      ]
    },
    {
      "cell_type": "markdown",
      "metadata": {
        "id": "8zAY4hQ7rKgJ",
        "colab_type": "text"
      },
      "source": [
        "## mnist_data2img.py"
      ]
    },
    {
      "cell_type": "code",
      "metadata": {
        "id": "H7tDLUv_0a3m",
        "colab_type": "code",
        "colab": {}
      },
      "source": [
        "!rm -r '/content/drive/My Drive/qiita_share/mnist_train_data'\n",
        "!rm -r '/content/drive/My Drive/qiita_share/mnist_valid_data'\n",
        "!rm -r '/content/mnist_data2img'"
      ],
      "execution_count": null,
      "outputs": []
    },
    {
      "cell_type": "code",
      "metadata": {
        "id": "_n1h_3gK4nhf",
        "colab_type": "code",
        "colab": {
          "base_uri": "https://localhost:8080/",
          "height": 158
        },
        "outputId": "93ef3f49-8599-44a3-ed0a-cdc1de4c4b72"
      },
      "source": [
        "%cd /content/\n",
        "!git clone https://github.com/PoodleMaster/mnist_data2img.git"
      ],
      "execution_count": 2,
      "outputs": [
        {
          "output_type": "stream",
          "text": [
            "/content\n",
            "Cloning into 'mnist_data2img'...\n",
            "remote: Enumerating objects: 120, done.\u001b[K\n",
            "remote: Counting objects: 100% (120/120), done.\u001b[K\n",
            "remote: Compressing objects: 100% (119/119), done.\u001b[K\n",
            "remote: Total 120 (delta 73), reused 0 (delta 0), pack-reused 0\u001b[K\n",
            "Receiving objects: 100% (120/120), 29.03 KiB | 1.12 MiB/s, done.\n",
            "Resolving deltas: 100% (73/73), done.\n"
          ],
          "name": "stdout"
        }
      ]
    },
    {
      "cell_type": "code",
      "metadata": {
        "id": "CKKuIVWPXl5K",
        "colab_type": "code",
        "colab": {
          "base_uri": "https://localhost:8080/",
          "height": 246
        },
        "outputId": "df85568a-8eda-4772-83f0-7cced0dda2ef"
      },
      "source": [
        "%cd /content/mnist_data2img\n",
        "!python mnist_data2img.py -h\n",
        "!python mnist_data2img.py"
      ],
      "execution_count": 3,
      "outputs": [
        {
          "output_type": "stream",
          "text": [
            "/content/mnist_data2img\n",
            "2020-09-25 01:25:32.888364: I tensorflow/stream_executor/platform/default/dso_loader.cc:48] Successfully opened dynamic library libcudart.so.10.1\n",
            "Drive already mounted at /content/drive; to attempt to forcibly remount, call drive.mount(\"/content/drive\", force_remount=True).\n",
            "usage: mnist_data2img.py [-h] [-n] [-d]\n",
            "\n",
            "optional arguments:\n",
            "  -h, --help   show this help message and exit\n",
            "  -n, --new    new create option.\n",
            "  -d, --debug  debug option.\n",
            "2020-09-25 01:25:35.933737: I tensorflow/stream_executor/platform/default/dso_loader.cc:48] Successfully opened dynamic library libcudart.so.10.1\n",
            "Drive already mounted at /content/drive; to attempt to forcibly remount, call drive.mount(\"/content/drive\", force_remount=True).\n",
            "100% 60000/60000 [06:24<00:00, 155.93it/s]\n",
            "100% 10000/10000 [00:47<00:00, 209.85it/s]\n"
          ],
          "name": "stdout"
        }
      ]
    },
    {
      "cell_type": "markdown",
      "metadata": {
        "id": "bnY9CjQms9sW",
        "colab_type": "text"
      },
      "source": [
        "## Look in the directory"
      ]
    },
    {
      "cell_type": "code",
      "metadata": {
        "id": "zQGcsS9ysk1x",
        "colab_type": "code",
        "colab": {
          "base_uri": "https://localhost:8080/",
          "height": 105
        },
        "outputId": "194b5984-c974-4fbe-ad54-1b54a33c1c6e"
      },
      "source": [
        "%cd /content/drive/My Drive/qiita_share/mnist_train_data\n",
        "!ls\n",
        "%cd /content/drive/My Drive/qiita_share/mnist_valid_data\n",
        "!ls"
      ],
      "execution_count": 7,
      "outputs": [
        {
          "output_type": "stream",
          "text": [
            "/content/drive/My Drive/qiita_share/mnist_train_data\n",
            "0  1  2  3  4  5  6  7\t8  9\n",
            "[Errno 2] No such file or directory: '/content/drive/My Drive/qiita_share/mnist_valid_data'\n",
            "/content/drive/My Drive/qiita_share/mnist_train_data\n",
            "0  1  2  3  4  5  6  7\t8  9\n"
          ],
          "name": "stdout"
        }
      ]
    },
    {
      "cell_type": "markdown",
      "metadata": {
        "id": "40W501pbCrZI",
        "colab_type": "text"
      },
      "source": [
        "## Image display"
      ]
    },
    {
      "cell_type": "code",
      "metadata": {
        "id": "au6JM2Nl5mZC",
        "colab_type": "code",
        "colab": {}
      },
      "source": [
        "import glob\n",
        "import numpy as np\n",
        "from PIL import Image\n",
        "from natsort import natsorted\n",
        "from matplotlib import pyplot as plt\n",
        "\n",
        "pm = 16\n",
        "\n",
        "for num in range(10):\n",
        "    files = glob.glob(\"/content/drive/My Drive/qiita_share/mnist_train_data/\" + str(num) + \"/*.png\")\n",
        "\n",
        "    data = []\n",
        "\n",
        "    for count, value in enumerate(natsorted(files), 1):\n",
        "        img = Image.open(value)\n",
        "        img = np.asarray(img)\n",
        "        data.append(img)\n",
        "        if (count >= (pm*pm)):\n",
        "            break\n",
        "\n",
        "    fig, ax = plt.subplots(pm, pm, figsize=(8, 8))\n",
        "    fig.subplots_adjust(hspace=0, wspace=0)\n",
        "\n",
        "    for i in range(pm):\n",
        "        for j in range(pm):\n",
        "            ax[i, j].xaxis.set_major_locator(plt.NullLocator())\n",
        "            ax[i, j].yaxis.set_major_locator(plt.NullLocator())\n",
        "            ax[i, j].imshow(data[pm*i+j], cmap=\"bone\")\n",
        "\n",
        "    plt.show()"
      ],
      "execution_count": null,
      "outputs": []
    }
  ]
}