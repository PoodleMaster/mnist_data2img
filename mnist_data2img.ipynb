{
  "nbformat": 4,
  "nbformat_minor": 0,
  "metadata": {
    "colab": {
      "name": "mnist_data2img.ipynb",
      "provenance": [],
      "collapsed_sections": [],
      "mount_file_id": "1FBw4rvgoOu216wWsArvVA1_Ygsxw9fPU",
      "authorship_tag": "ABX9TyP6xi9Pn4SCdePP7/N4EZxo",
      "include_colab_link": true
    },
    "kernelspec": {
      "name": "python3",
      "display_name": "Python 3"
    }
  },
  "cells": [
    {
      "cell_type": "markdown",
      "metadata": {
        "id": "view-in-github",
        "colab_type": "text"
      },
      "source": [
        "<a href=\"https://colab.research.google.com/github/PoodleMaster/mnist_data2img/blob/master/mnist_data2img.ipynb\" target=\"_parent\"><img src=\"https://colab.research.google.com/assets/colab-badge.svg\" alt=\"Open In Colab\"/></a>"
      ]
    },
    {
      "cell_type": "markdown",
      "metadata": {
        "id": "MP4_KH8ojRoz",
        "colab_type": "text"
      },
      "source": [
        "# **mnist_data2img**"
      ]
    },
    {
      "cell_type": "markdown",
      "metadata": {
        "id": "8zAY4hQ7rKgJ",
        "colab_type": "text"
      },
      "source": [
        "## mnist_data2im.py"
      ]
    },
    {
      "cell_type": "code",
      "metadata": {
        "id": "_n1h_3gK4nhf",
        "colab_type": "code",
        "colab": {
          "base_uri": "https://localhost:8080/",
          "height": 140
        },
        "outputId": "6accc17f-aebd-4d46-b98a-460a8c78b7ea"
      },
      "source": [
        "%cd /content/\n",
        "!git clone https://github.com/PoodleMaster/mnist_data2img.git"
      ],
      "execution_count": 1,
      "outputs": [
        {
          "output_type": "stream",
          "text": [
            "/content\n",
            "Cloning into 'mnist_data2img'...\n",
            "remote: Enumerating objects: 96, done.\u001b[K\n",
            "remote: Counting objects: 100% (96/96), done.\u001b[K\n",
            "remote: Compressing objects: 100% (95/95), done.\u001b[K\n",
            "remote: Total 96 (delta 57), reused 0 (delta 0), pack-reused 0\u001b[K\n",
            "Unpacking objects: 100% (96/96), done.\n"
          ],
          "name": "stdout"
        }
      ]
    },
    {
      "cell_type": "code",
      "metadata": {
        "id": "CKKuIVWPXl5K",
        "colab_type": "code",
        "colab": {
          "base_uri": "https://localhost:8080/",
          "height": 281
        },
        "outputId": "f48e1729-350b-4ce9-b652-6c99c7e23d86"
      },
      "source": [
        "%cd /content/mnist_data2img\n",
        "!python mnist_data2img.py -h\n",
        "!python mnist_data2img.py"
      ],
      "execution_count": 2,
      "outputs": [
        {
          "output_type": "stream",
          "text": [
            "/content/mnist_data2img\n",
            "2020-09-25 00:23:15.656804: I tensorflow/stream_executor/platform/default/dso_loader.cc:48] Successfully opened dynamic library libcudart.so.10.1\n",
            "Drive already mounted at /content/drive; to attempt to forcibly remount, call drive.mount(\"/content/drive\", force_remount=True).\n",
            "usage: mnist_data2img.py [-h] [-n] [-d]\n",
            "\n",
            "optional arguments:\n",
            "  -h, --help   show this help message and exit\n",
            "  -n, --new    new create option.\n",
            "  -d, --debug  debug option.\n",
            "2020-09-25 00:23:18.633798: I tensorflow/stream_executor/platform/default/dso_loader.cc:48] Successfully opened dynamic library libcudart.so.10.1\n",
            "Drive already mounted at /content/drive; to attempt to forcibly remount, call drive.mount(\"/content/drive\", force_remount=True).\n",
            "Downloading data from https://storage.googleapis.com/tensorflow/tf-keras-datasets/mnist.npz\n",
            "11493376/11490434 [==============================] - 0s 0us/step\n",
            "100% 60000/60000 [04:16<00:00, 233.95it/s]\n",
            "100% 10000/10000 [00:48<00:00, 206.54it/s]\n"
          ],
          "name": "stdout"
        }
      ]
    },
    {
      "cell_type": "markdown",
      "metadata": {
        "id": "bnY9CjQms9sW",
        "colab_type": "text"
      },
      "source": [
        "## Look in the directory"
      ]
    },
    {
      "cell_type": "code",
      "metadata": {
        "id": "zQGcsS9ysk1x",
        "colab_type": "code",
        "colab": {
          "base_uri": "https://localhost:8080/",
          "height": 87
        },
        "outputId": "6b37267b-e1d6-44ee-856c-e364a2307c40"
      },
      "source": [
        "%cd /content/drive/My Drive/qiita_share/mnist_train_data\n",
        "!ls\n",
        "%cd /content/drive/My Drive/qiita_share/mnist_valid_data\n",
        "!ls"
      ],
      "execution_count": 3,
      "outputs": [
        {
          "output_type": "stream",
          "text": [
            "/content/drive/My Drive/qiita_share/mnist_train_data\n",
            "0  1  2  3  4  5  6  7\t8  9\n",
            "/content/drive/My Drive/qiita_share/mnist_valid_data\n",
            "0  1  2  3  4  5  6  7\t8  9\n"
          ],
          "name": "stdout"
        }
      ]
    },
    {
      "cell_type": "code",
      "metadata": {
        "id": "Bb4MGkTMXhOr",
        "colab_type": "code",
        "colab": {
          "base_uri": "https://localhost:8080/",
          "height": 45
        },
        "outputId": "aca8d45f-4c90-47d7-b955-3f8751a94676"
      },
      "source": [
        "from IPython.display import Image\n",
        "Image(filename='/content/drive/My Drive/qiita_share/mnist_train_data/0/data00001.png', width=28)"
      ],
      "execution_count": 4,
      "outputs": [
        {
          "output_type": "execute_result",
          "data": {
            "image/png": "[encoded data removed]",
            "text/plain": [
              "<IPython.core.display.Image object>"
            ]
          },
          "metadata": {
            "tags": [],
            "image/png": {
              "width": 28
            }
          },
          "execution_count": 4
        }
      ]
    }
  ]
}