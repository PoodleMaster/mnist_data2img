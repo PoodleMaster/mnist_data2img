{
  "nbformat": 4,
  "nbformat_minor": 0,
  "metadata": {
    "colab": {
      "name": "mnist_data2img.ipynb",
      "provenance": [],
      "collapsed_sections": [],
      "toc_visible": true,
      "mount_file_id": "1FBw4rvgoOu216wWsArvVA1_Ygsxw9fPU",
      "authorship_tag": "ABX9TyO0reQ9wGg1vXNqKV5BuqpR"
    },
    "kernelspec": {
      "name": "python3",
      "display_name": "Python 3"
    }
  },
  "cells": [
    {
      "cell_type": "markdown",
      "metadata": {
        "id": "MP4_KH8ojRoz",
        "colab_type": "text"
      },
      "source": [
        "# **mnist_data2img**"
      ]
    },
    {
      "cell_type": "markdown",
      "metadata": {
        "id": "8zAY4hQ7rKgJ",
        "colab_type": "text"
      },
      "source": [
        "## mnist_data2im.py"
      ]
    },
    {
      "cell_type": "code",
      "metadata": {
        "id": "_n1h_3gK4nhf",
        "colab_type": "code",
        "colab": {
          "base_uri": "https://localhost:8080/",
          "height": 158
        },
        "outputId": "4e0fe63a-62a1-4558-81fb-35374c47a6b8"
      },
      "source": [
        "%cd /content/\n",
        "!rm -r /content/mnist_data2img\n",
        "!git clone https://github.com/PoodleMaster/mnist_data2img.git"
      ],
      "execution_count": 3,
      "outputs": [
        {
          "output_type": "stream",
          "text": [
            "/content\n",
            "rm: cannot remove '/content/mnist_data2img': No such file or directory\n",
            "Cloning into 'mnist_data2img'...\n",
            "remote: Enumerating objects: 93, done.\u001b[K\n",
            "remote: Counting objects: 100% (93/93), done.\u001b[K\n",
            "remote: Compressing objects: 100% (92/92), done.\u001b[K\n",
            "remote: Total 93 (delta 55), reused 0 (delta 0), pack-reused 0\u001b[K\n",
            "Unpacking objects: 100% (93/93), done.\n"
          ],
          "name": "stdout"
        }
      ]
    },
    {
      "cell_type": "code",
      "metadata": {
        "id": "njovWjUt5zcv",
        "colab_type": "code",
        "colab": {
          "base_uri": "https://localhost:8080/",
          "height": 52
        },
        "outputId": "0771d684-a987-44bd-fab5-037343122d44"
      },
      "source": [
        "!rm -r '/content/drive/My Drive/qiita_share/mnist_train_data'\n",
        "!rm -r '/content/drive/My Drive/qiita_share/mnist_valid_data'"
      ],
      "execution_count": 4,
      "outputs": [
        {
          "output_type": "stream",
          "text": [
            "rm: cannot remove '/content/drive/My Drive/qiita_share/mnist_train_data': No such file or directory\n",
            "rm: cannot remove '/content/drive/My Drive/qiita_share/mnist_valid_data': No such file or directory\n"
          ],
          "name": "stdout"
        }
      ]
    },
    {
      "cell_type": "code",
      "metadata": {
        "id": "CKKuIVWPXl5K",
        "colab_type": "code",
        "colab": {
          "base_uri": "https://localhost:8080/",
          "height": 281
        },
        "outputId": "4173230f-7bc7-4749-9d34-6c8b5abc2936"
      },
      "source": [
        "%cd /content/mnist_data2img\n",
        "!python mnist_data2img.py -h\n",
        "!python mnist_data2img.py"
      ],
      "execution_count": 9,
      "outputs": [
        {
          "output_type": "stream",
          "text": [
            "/content/mnist_data2img\n",
            "2020-09-24 23:08:45.519641: I tensorflow/stream_executor/platform/default/dso_loader.cc:48] Successfully opened dynamic library libcudart.so.10.1\n",
            "Drive already mounted at /content/drive; to attempt to forcibly remount, call drive.mount(\"/content/drive\", force_remount=True).\n",
            "usage: mnist_data2img.py [-h] [-n] [-d]\n",
            "\n",
            "optional arguments:\n",
            "  -h, --help   show this help message and exit\n",
            "  -n, --new    new create option.\n",
            "  -d, --debug  debug option.\n",
            "2020-09-24 23:08:48.504086: I tensorflow/stream_executor/platform/default/dso_loader.cc:48] Successfully opened dynamic library libcudart.so.10.1\n",
            "Drive already mounted at /content/drive; to attempt to forcibly remount, call drive.mount(\"/content/drive\", force_remount=True).\n",
            "Downloading data from https://storage.googleapis.com/tensorflow/tf-keras-datasets/mnist.npz\n",
            "11493376/11490434 [==============================] - 0s 0us/step\n",
            "100% 60000/60000 [04:36<00:00, 216.76it/s]\n",
            "100% 10000/10000 [00:49<00:00, 201.88it/s]\n"
          ],
          "name": "stdout"
        }
      ]
    },
    {
      "cell_type": "markdown",
      "metadata": {
        "id": "bnY9CjQms9sW",
        "colab_type": "text"
      },
      "source": [
        "## Look in the directory"
      ]
    },
    {
      "cell_type": "code",
      "metadata": {
        "id": "zQGcsS9ysk1x",
        "colab_type": "code",
        "colab": {
          "base_uri": "https://localhost:8080/",
          "height": 87
        },
        "outputId": "63bb0518-894a-4bef-fc79-d5d7b50555a4"
      },
      "source": [
        "%cd /content/drive/My Drive/qiita_share/mnist_train_data\n",
        "!ls\n",
        "%cd /content/drive/My Drive/qiita_share/mnist_valid_data\n",
        "!ls"
      ],
      "execution_count": 10,
      "outputs": [
        {
          "output_type": "stream",
          "text": [
            "/content/drive/My Drive/qiita_share/mnist_train_data\n",
            "0  1  2  3  4  5  6  7\t8  9\n",
            "/content/drive/My Drive/qiita_share/mnist_valid_data\n",
            "0  1  2  3  4  5  6  7\t8  9\n"
          ],
          "name": "stdout"
        }
      ]
    },
    {
      "cell_type": "code",
      "metadata": {
        "id": "Bb4MGkTMXhOr",
        "colab_type": "code",
        "colab": {
          "base_uri": "https://localhost:8080/",
          "height": 45
        },
        "outputId": "be80e723-4453-48a6-ac5b-1af9c29e136c"
      },
      "source": [
        "from IPython.display import Image\n",
        "Image(filename='/content/drive/My Drive/qiita_share/mnist_train_data/0/data00001.png', width=28)"
      ],
      "execution_count": 13,
      "outputs": [
        {
          "output_type": "execute_result",
          "data": {
            "image/png": "[encoded data removed]",
            "text/plain": [
              "<IPython.core.display.Image object>"
            ]
          },
          "metadata": {
            "tags": [],
            "image/png": {
              "width": 28
            }
          },
          "execution_count": 13
        }
      ]
    }
  ]
}