{
  "nbformat": 4,
  "nbformat_minor": 0,
  "metadata": {
    "colab": {
      "name": "mnist_data2img.ipynb",
      "provenance": [],
      "collapsed_sections": [],
      "toc_visible": true,
      "mount_file_id": "1FBw4rvgoOu216wWsArvVA1_Ygsxw9fPU",
      "authorship_tag": "ABX9TyMw+vbbfBG8CdiqX3CRZnyy"
    },
    "kernelspec": {
      "name": "python3",
      "display_name": "Python 3"
    }
  },
  "cells": [
    {
      "cell_type": "markdown",
      "metadata": {
        "id": "MP4_KH8ojRoz",
        "colab_type": "text"
      },
      "source": [
        "# **mnist_data2img**"
      ]
    },
    {
      "cell_type": "markdown",
      "metadata": {
        "id": "8zAY4hQ7rKgJ",
        "colab_type": "text"
      },
      "source": [
        "## mnist_data2im.py"
      ]
    },
    {
      "cell_type": "code",
      "metadata": {
        "id": "_n1h_3gK4nhf",
        "colab_type": "code",
        "colab": {
          "base_uri": "https://localhost:8080/",
          "height": 140
        },
        "outputId": "f0a2078b-f758-4f1d-ac61-273868f35351"
      },
      "source": [
        "%cd /content/\n",
        "!rm -r /content/mnist_data2img\n",
        "!git clone https://github.com/PoodleMaster/mnist_data2img.git"
      ],
      "execution_count": null,
      "outputs": [
        {
          "output_type": "stream",
          "text": [
            "/content\n",
            "Cloning into 'mnist_data2img'...\n",
            "remote: Enumerating objects: 66, done.\u001b[K\n",
            "remote: Counting objects: 100% (66/66), done.\u001b[K\n",
            "remote: Compressing objects: 100% (65/65), done.\u001b[K\n",
            "remote: Total 66 (delta 40), reused 0 (delta 0), pack-reused 0\u001b[K\n",
            "Unpacking objects: 100% (66/66), done.\n"
          ],
          "name": "stdout"
        }
      ]
    },
    {
      "cell_type": "code",
      "metadata": {
        "id": "CKKuIVWPXl5K",
        "colab_type": "code",
        "colab": {
          "base_uri": "https://localhost:8080/",
          "height": 334
        },
        "outputId": "23d9df9f-67a1-4354-9846-6938b7637ad3"
      },
      "source": [
        "%cd /content/mnist_data2img\n",
        "!python mnist_data2img.py -h\n",
        "!python mnist_data2img.py -n"
      ],
      "execution_count": null,
      "outputs": [
        {
          "output_type": "stream",
          "text": [
            "/content/mnist_data2img\n",
            "2020-09-24 15:06:17.310667: I tensorflow/stream_executor/platform/default/dso_loader.cc:48] Successfully opened dynamic library libcudart.so.10.1\n",
            "Drive already mounted at /content/drive; to attempt to forcibly remount, call drive.mount(\"/content/drive\", force_remount=True).\n",
            "usage: mnist_data2img.py [-h] [-n] [-d]\n",
            "\n",
            "optional arguments:\n",
            "  -h, --help   show this help message and exit\n",
            "  -n, --new    new create option.\n",
            "  -d, --debug  debug option.\n",
            "2020-09-24 15:06:20.361708: I tensorflow/stream_executor/platform/default/dso_loader.cc:48] Successfully opened dynamic library libcudart.so.10.1\n",
            "Drive already mounted at /content/drive; to attempt to forcibly remount, call drive.mount(\"/content/drive\", force_remount=True).\n",
            "Create new png data from mnist.\n",
            "DEL TRY:  /content/drive/My Drive/qiita_share/mnist_valid_data\n",
            "DEL PASS:  /content/drive/My Drive/qiita_share/mnist_valid_data\n",
            "DEL TRY:  /content/drive/My Drive/qiita_share/mnist_train_data\n",
            "DEL COMP:  /content/drive/My Drive/qiita_share/mnist_train_data\n",
            "100% 60000/60000 [09:25<00:00, 106.17it/s]\n",
            "100% 10000/10000 [01:21<00:00, 122.74it/s]\n"
          ],
          "name": "stdout"
        }
      ]
    },
    {
      "cell_type": "markdown",
      "metadata": {
        "id": "bnY9CjQms9sW",
        "colab_type": "text"
      },
      "source": [
        "## Look in the directory"
      ]
    },
    {
      "cell_type": "code",
      "metadata": {
        "id": "zQGcsS9ysk1x",
        "colab_type": "code",
        "colab": {
          "base_uri": "https://localhost:8080/",
          "height": 87
        },
        "outputId": "c832675a-0c6e-47e5-d5ef-468f65b28b53"
      },
      "source": [
        "%cd /content/drive/My Drive/qiita_share/mnist_train_data\n",
        "!ls\n",
        "%cd /content/drive/My Drive/qiita_share/mnist_valid_data\n",
        "!ls"
      ],
      "execution_count": null,
      "outputs": [
        {
          "output_type": "stream",
          "text": [
            "/content/drive/My Drive/qiita_share/mnist_train_data\n",
            "0  1  2  3  4  5  6  7\t8  9\n",
            "/content/drive/My Drive/qiita_share/mnist_valid_data\n",
            "0  1  2  3  4  5  6  7\t8  9\n"
          ],
          "name": "stdout"
        }
      ]
    }
  ]
}